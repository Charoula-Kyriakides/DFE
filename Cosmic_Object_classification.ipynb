{
  "cells": [
    {
      "cell_type": "markdown",
      "metadata": {
        "id": "4mD6dTAx_Wdc"
      },
      "source": [
        "# Practical Machine Learning \n",
        "## Cosmic Object Classification"
      ]
    },
    {
      "cell_type": "markdown",
      "metadata": {
        "id": "x2JiDrHR_Wdl"
      },
      "source": [
        "# Define the problem domain\n",
        "\n",
        "\n",
        "Which features are most useful when determining the type of a luminescent cosmic object (i.e. stars, galaxies or quasi-stellar objects (QSO)) and how accurate can the prediction be?"
      ]
    },
    {
      "cell_type": "code",
      "execution_count": null,
      "metadata": {
        "id": "lO84E3n-_Wdl"
      },
      "outputs": [],
      "source": [
        "# import relevant libraries\n",
        "import pandas as pd\n",
        "import numpy as np\n",
        "import seaborn as sns\n",
        "import matplotlib.pyplot as plt\n",
        "\n",
        "# sklearn modules\n",
        "from sklearn.model_selection import train_test_split\n",
        "from sklearn import svm\n",
        "from sklearn.metrics import accuracy_score, precision_score, recall_score\n",
        "from sklearn.metrics import confusion_matrix, ConfusionMatrixDisplay"
      ]
    },
    {
      "cell_type": "markdown",
      "source": [
        "#  Generate a descriptive statistics report for the columns in your dataset"
      ],
      "metadata": {
        "id": "MUAAbr6TVTcq"
      }
    },
    {
      "cell_type": "code",
      "execution_count": null,
      "metadata": {
        "colab": {
          "base_uri": "https://localhost:8080/",
          "height": 250
        },
        "id": "PBESM7DH_Wdn",
        "outputId": "e1dc649c-8d91-482c-9421-e1eca385d298"
      },
      "outputs": [
        {
          "output_type": "execute_result",
          "data": {
            "text/plain": [
              "         obj_ID       alpha      delta         u         g         r  \\\n",
              "0  1.237661e+18  135.689107  32.494632  23.87882  22.27530  20.39501   \n",
              "1  1.237665e+18  144.826101  31.274185  24.77759  22.83188  22.58444   \n",
              "2  1.237661e+18  142.188790  35.582444  25.26307  22.66389  20.60976   \n",
              "3  1.237663e+18  338.741038  -0.402828  22.13682  23.77656  21.61162   \n",
              "4  1.237680e+18  345.282593  21.183866  19.43718  17.58028  16.49747   \n",
              "\n",
              "          i         z  run_ID  rerun_ID  cam_col  field_ID   spec_obj_ID  \\\n",
              "0  19.16573  18.79371    3606       301        2        79  6.543777e+18   \n",
              "1  21.16812  21.61427    4518       301        5       119  1.176014e+19   \n",
              "2  19.34857  18.94827    3606       301        2       120  5.152200e+18   \n",
              "3  20.50454  19.25010    4192       301        3       214  1.030107e+19   \n",
              "4  15.97711  15.54461    8102       301        3       137  6.891865e+18   \n",
              "\n",
              "    class  redshift  plate    MJD  fiber_ID  \n",
              "0  GALAXY  0.634794   5812  56354       171  \n",
              "1  GALAXY  0.779136  10445  58158       427  \n",
              "2  GALAXY  0.644195   4576  55592       299  \n",
              "3  GALAXY  0.932346   9149  58039       775  \n",
              "4  GALAXY  0.116123   6121  56187       842  "
            ],
            "text/html": [
              "\n",
              "  <div id=\"df-5647af1a-c42d-4f59-b44a-1225c9916149\">\n",
              "    <div class=\"colab-df-container\">\n",
              "      <div>\n",
              "<style scoped>\n",
              "    .dataframe tbody tr th:only-of-type {\n",
              "        vertical-align: middle;\n",
              "    }\n",
              "\n",
              "    .dataframe tbody tr th {\n",
              "        vertical-align: top;\n",
              "    }\n",
              "\n",
              "    .dataframe thead th {\n",
              "        text-align: right;\n",
              "    }\n",
              "</style>\n",
              "<table border=\"1\" class=\"dataframe\">\n",
              "  <thead>\n",
              "    <tr style=\"text-align: right;\">\n",
              "      <th></th>\n",
              "      <th>obj_ID</th>\n",
              "      <th>alpha</th>\n",
              "      <th>delta</th>\n",
              "      <th>u</th>\n",
              "      <th>g</th>\n",
              "      <th>r</th>\n",
              "      <th>i</th>\n",
              "      <th>z</th>\n",
              "      <th>run_ID</th>\n",
              "      <th>rerun_ID</th>\n",
              "      <th>cam_col</th>\n",
              "      <th>field_ID</th>\n",
              "      <th>spec_obj_ID</th>\n",
              "      <th>class</th>\n",
              "      <th>redshift</th>\n",
              "      <th>plate</th>\n",
              "      <th>MJD</th>\n",
              "      <th>fiber_ID</th>\n",
              "    </tr>\n",
              "  </thead>\n",
              "  <tbody>\n",
              "    <tr>\n",
              "      <th>0</th>\n",
              "      <td>1.237661e+18</td>\n",
              "      <td>135.689107</td>\n",
              "      <td>32.494632</td>\n",
              "      <td>23.87882</td>\n",
              "      <td>22.27530</td>\n",
              "      <td>20.39501</td>\n",
              "      <td>19.16573</td>\n",
              "      <td>18.79371</td>\n",
              "      <td>3606</td>\n",
              "      <td>301</td>\n",
              "      <td>2</td>\n",
              "      <td>79</td>\n",
              "      <td>6.543777e+18</td>\n",
              "      <td>GALAXY</td>\n",
              "      <td>0.634794</td>\n",
              "      <td>5812</td>\n",
              "      <td>56354</td>\n",
              "      <td>171</td>\n",
              "    </tr>\n",
              "    <tr>\n",
              "      <th>1</th>\n",
              "      <td>1.237665e+18</td>\n",
              "      <td>144.826101</td>\n",
              "      <td>31.274185</td>\n",
              "      <td>24.77759</td>\n",
              "      <td>22.83188</td>\n",
              "      <td>22.58444</td>\n",
              "      <td>21.16812</td>\n",
              "      <td>21.61427</td>\n",
              "      <td>4518</td>\n",
              "      <td>301</td>\n",
              "      <td>5</td>\n",
              "      <td>119</td>\n",
              "      <td>1.176014e+19</td>\n",
              "      <td>GALAXY</td>\n",
              "      <td>0.779136</td>\n",
              "      <td>10445</td>\n",
              "      <td>58158</td>\n",
              "      <td>427</td>\n",
              "    </tr>\n",
              "    <tr>\n",
              "      <th>2</th>\n",
              "      <td>1.237661e+18</td>\n",
              "      <td>142.188790</td>\n",
              "      <td>35.582444</td>\n",
              "      <td>25.26307</td>\n",
              "      <td>22.66389</td>\n",
              "      <td>20.60976</td>\n",
              "      <td>19.34857</td>\n",
              "      <td>18.94827</td>\n",
              "      <td>3606</td>\n",
              "      <td>301</td>\n",
              "      <td>2</td>\n",
              "      <td>120</td>\n",
              "      <td>5.152200e+18</td>\n",
              "      <td>GALAXY</td>\n",
              "      <td>0.644195</td>\n",
              "      <td>4576</td>\n",
              "      <td>55592</td>\n",
              "      <td>299</td>\n",
              "    </tr>\n",
              "    <tr>\n",
              "      <th>3</th>\n",
              "      <td>1.237663e+18</td>\n",
              "      <td>338.741038</td>\n",
              "      <td>-0.402828</td>\n",
              "      <td>22.13682</td>\n",
              "      <td>23.77656</td>\n",
              "      <td>21.61162</td>\n",
              "      <td>20.50454</td>\n",
              "      <td>19.25010</td>\n",
              "      <td>4192</td>\n",
              "      <td>301</td>\n",
              "      <td>3</td>\n",
              "      <td>214</td>\n",
              "      <td>1.030107e+19</td>\n",
              "      <td>GALAXY</td>\n",
              "      <td>0.932346</td>\n",
              "      <td>9149</td>\n",
              "      <td>58039</td>\n",
              "      <td>775</td>\n",
              "    </tr>\n",
              "    <tr>\n",
              "      <th>4</th>\n",
              "      <td>1.237680e+18</td>\n",
              "      <td>345.282593</td>\n",
              "      <td>21.183866</td>\n",
              "      <td>19.43718</td>\n",
              "      <td>17.58028</td>\n",
              "      <td>16.49747</td>\n",
              "      <td>15.97711</td>\n",
              "      <td>15.54461</td>\n",
              "      <td>8102</td>\n",
              "      <td>301</td>\n",
              "      <td>3</td>\n",
              "      <td>137</td>\n",
              "      <td>6.891865e+18</td>\n",
              "      <td>GALAXY</td>\n",
              "      <td>0.116123</td>\n",
              "      <td>6121</td>\n",
              "      <td>56187</td>\n",
              "      <td>842</td>\n",
              "    </tr>\n",
              "  </tbody>\n",
              "</table>\n",
              "</div>\n",
              "      <button class=\"colab-df-convert\" onclick=\"convertToInteractive('df-5647af1a-c42d-4f59-b44a-1225c9916149')\"\n",
              "              title=\"Convert this dataframe to an interactive table.\"\n",
              "              style=\"display:none;\">\n",
              "        \n",
              "  <svg xmlns=\"http://www.w3.org/2000/svg\" height=\"24px\"viewBox=\"0 0 24 24\"\n",
              "       width=\"24px\">\n",
              "    <path d=\"M0 0h24v24H0V0z\" fill=\"none\"/>\n",
              "    <path d=\"M18.56 5.44l.94 2.06.94-2.06 2.06-.94-2.06-.94-.94-2.06-.94 2.06-2.06.94zm-11 1L8.5 8.5l.94-2.06 2.06-.94-2.06-.94L8.5 2.5l-.94 2.06-2.06.94zm10 10l.94 2.06.94-2.06 2.06-.94-2.06-.94-.94-2.06-.94 2.06-2.06.94z\"/><path d=\"M17.41 7.96l-1.37-1.37c-.4-.4-.92-.59-1.43-.59-.52 0-1.04.2-1.43.59L10.3 9.45l-7.72 7.72c-.78.78-.78 2.05 0 2.83L4 21.41c.39.39.9.59 1.41.59.51 0 1.02-.2 1.41-.59l7.78-7.78 2.81-2.81c.8-.78.8-2.07 0-2.86zM5.41 20L4 18.59l7.72-7.72 1.47 1.35L5.41 20z\"/>\n",
              "  </svg>\n",
              "      </button>\n",
              "      \n",
              "  <style>\n",
              "    .colab-df-container {\n",
              "      display:flex;\n",
              "      flex-wrap:wrap;\n",
              "      gap: 12px;\n",
              "    }\n",
              "\n",
              "    .colab-df-convert {\n",
              "      background-color: #E8F0FE;\n",
              "      border: none;\n",
              "      border-radius: 50%;\n",
              "      cursor: pointer;\n",
              "      display: none;\n",
              "      fill: #1967D2;\n",
              "      height: 32px;\n",
              "      padding: 0 0 0 0;\n",
              "      width: 32px;\n",
              "    }\n",
              "\n",
              "    .colab-df-convert:hover {\n",
              "      background-color: #E2EBFA;\n",
              "      box-shadow: 0px 1px 2px rgba(60, 64, 67, 0.3), 0px 1px 3px 1px rgba(60, 64, 67, 0.15);\n",
              "      fill: #174EA6;\n",
              "    }\n",
              "\n",
              "    [theme=dark] .colab-df-convert {\n",
              "      background-color: #3B4455;\n",
              "      fill: #D2E3FC;\n",
              "    }\n",
              "\n",
              "    [theme=dark] .colab-df-convert:hover {\n",
              "      background-color: #434B5C;\n",
              "      box-shadow: 0px 1px 3px 1px rgba(0, 0, 0, 0.15);\n",
              "      filter: drop-shadow(0px 1px 2px rgba(0, 0, 0, 0.3));\n",
              "      fill: #FFFFFF;\n",
              "    }\n",
              "  </style>\n",
              "\n",
              "      <script>\n",
              "        const buttonEl =\n",
              "          document.querySelector('#df-5647af1a-c42d-4f59-b44a-1225c9916149 button.colab-df-convert');\n",
              "        buttonEl.style.display =\n",
              "          google.colab.kernel.accessAllowed ? 'block' : 'none';\n",
              "\n",
              "        async function convertToInteractive(key) {\n",
              "          const element = document.querySelector('#df-5647af1a-c42d-4f59-b44a-1225c9916149');\n",
              "          const dataTable =\n",
              "            await google.colab.kernel.invokeFunction('convertToInteractive',\n",
              "                                                     [key], {});\n",
              "          if (!dataTable) return;\n",
              "\n",
              "          const docLinkHtml = 'Like what you see? Visit the ' +\n",
              "            '<a target=\"_blank\" href=https://colab.research.google.com/notebooks/data_table.ipynb>data table notebook</a>'\n",
              "            + ' to learn more about interactive tables.';\n",
              "          element.innerHTML = '';\n",
              "          dataTable['output_type'] = 'display_data';\n",
              "          await google.colab.output.renderOutput(dataTable, element);\n",
              "          const docLink = document.createElement('div');\n",
              "          docLink.innerHTML = docLinkHtml;\n",
              "          element.appendChild(docLink);\n",
              "        }\n",
              "      </script>\n",
              "    </div>\n",
              "  </div>\n",
              "  "
            ]
          },
          "metadata": {},
          "execution_count": 89
        }
      ],
      "source": [
        "# load data\n",
        "url = \"https://raw.githubusercontent.com/Charoula-Kyriakides/DFE/main/star_classification.csv\"\n",
        "stars = pd.read_csv(url) \n",
        "stars.head()"
      ]
    },
    {
      "cell_type": "code",
      "execution_count": null,
      "metadata": {
        "id": "o_cWlImP_Wdo",
        "colab": {
          "base_uri": "https://localhost:8080/",
          "height": 364
        },
        "outputId": "96209451-9604-477f-888c-651c4fecf03f"
      },
      "outputs": [
        {
          "output_type": "execute_result",
          "data": {
            "text/plain": [
              "             obj_ID          alpha          delta              u  \\\n",
              "count  1.000000e+05  100000.000000  100000.000000  100000.000000   \n",
              "mean   1.237665e+18     177.629117      24.135305      21.980468   \n",
              "std    8.438560e+12      96.502241      19.644665      31.769291   \n",
              "min    1.237646e+18       0.005528     -18.785328   -9999.000000   \n",
              "25%    1.237659e+18     127.518222       5.146771      20.352353   \n",
              "50%    1.237663e+18     180.900700      23.645922      22.179135   \n",
              "75%    1.237668e+18     233.895005      39.901550      23.687440   \n",
              "max    1.237681e+18     359.999810      83.000519      32.781390   \n",
              "\n",
              "                   g              r              i              z  \\\n",
              "count  100000.000000  100000.000000  100000.000000  100000.000000   \n",
              "mean       20.531387      19.645762      19.084854      18.668810   \n",
              "std        31.750292       1.854760       1.757895      31.728152   \n",
              "min     -9999.000000       9.822070       9.469903   -9999.000000   \n",
              "25%        18.965230      18.135828      17.732285      17.460677   \n",
              "50%        21.099835      20.125290      19.405145      19.004595   \n",
              "75%        22.123767      21.044785      20.396495      19.921120   \n",
              "max        31.602240      29.571860      32.141470      29.383740   \n",
              "\n",
              "              run_ID  rerun_ID        cam_col       field_ID   spec_obj_ID  \\\n",
              "count  100000.000000  100000.0  100000.000000  100000.000000  1.000000e+05   \n",
              "mean     4481.366060     301.0       3.511610     186.130520  5.783882e+18   \n",
              "std      1964.764593       0.0       1.586912     149.011073  3.324016e+18   \n",
              "min       109.000000     301.0       1.000000      11.000000  2.995191e+17   \n",
              "25%      3187.000000     301.0       2.000000      82.000000  2.844138e+18   \n",
              "50%      4188.000000     301.0       4.000000     146.000000  5.614883e+18   \n",
              "75%      5326.000000     301.0       5.000000     241.000000  8.332144e+18   \n",
              "max      8162.000000     301.0       6.000000     989.000000  1.412694e+19   \n",
              "\n",
              "            redshift          plate            MJD       fiber_ID  \n",
              "count  100000.000000  100000.000000  100000.000000  100000.000000  \n",
              "mean        0.576661    5137.009660   55588.647500     449.312740  \n",
              "std         0.730707    2952.303351    1808.484233     272.498404  \n",
              "min        -0.009971     266.000000   51608.000000       1.000000  \n",
              "25%         0.054517    2526.000000   54234.000000     221.000000  \n",
              "50%         0.424173    4987.000000   55868.500000     433.000000  \n",
              "75%         0.704154    7400.250000   56777.000000     645.000000  \n",
              "max         7.011245   12547.000000   58932.000000    1000.000000  "
            ],
            "text/html": [
              "\n",
              "  <div id=\"df-992cd4f3-744d-4023-9647-540e3f43b638\">\n",
              "    <div class=\"colab-df-container\">\n",
              "      <div>\n",
              "<style scoped>\n",
              "    .dataframe tbody tr th:only-of-type {\n",
              "        vertical-align: middle;\n",
              "    }\n",
              "\n",
              "    .dataframe tbody tr th {\n",
              "        vertical-align: top;\n",
              "    }\n",
              "\n",
              "    .dataframe thead th {\n",
              "        text-align: right;\n",
              "    }\n",
              "</style>\n",
              "<table border=\"1\" class=\"dataframe\">\n",
              "  <thead>\n",
              "    <tr style=\"text-align: right;\">\n",
              "      <th></th>\n",
              "      <th>obj_ID</th>\n",
              "      <th>alpha</th>\n",
              "      <th>delta</th>\n",
              "      <th>u</th>\n",
              "      <th>g</th>\n",
              "      <th>r</th>\n",
              "      <th>i</th>\n",
              "      <th>z</th>\n",
              "      <th>run_ID</th>\n",
              "      <th>rerun_ID</th>\n",
              "      <th>cam_col</th>\n",
              "      <th>field_ID</th>\n",
              "      <th>spec_obj_ID</th>\n",
              "      <th>redshift</th>\n",
              "      <th>plate</th>\n",
              "      <th>MJD</th>\n",
              "      <th>fiber_ID</th>\n",
              "    </tr>\n",
              "  </thead>\n",
              "  <tbody>\n",
              "    <tr>\n",
              "      <th>count</th>\n",
              "      <td>1.000000e+05</td>\n",
              "      <td>100000.000000</td>\n",
              "      <td>100000.000000</td>\n",
              "      <td>100000.000000</td>\n",
              "      <td>100000.000000</td>\n",
              "      <td>100000.000000</td>\n",
              "      <td>100000.000000</td>\n",
              "      <td>100000.000000</td>\n",
              "      <td>100000.000000</td>\n",
              "      <td>100000.0</td>\n",
              "      <td>100000.000000</td>\n",
              "      <td>100000.000000</td>\n",
              "      <td>1.000000e+05</td>\n",
              "      <td>100000.000000</td>\n",
              "      <td>100000.000000</td>\n",
              "      <td>100000.000000</td>\n",
              "      <td>100000.000000</td>\n",
              "    </tr>\n",
              "    <tr>\n",
              "      <th>mean</th>\n",
              "      <td>1.237665e+18</td>\n",
              "      <td>177.629117</td>\n",
              "      <td>24.135305</td>\n",
              "      <td>21.980468</td>\n",
              "      <td>20.531387</td>\n",
              "      <td>19.645762</td>\n",
              "      <td>19.084854</td>\n",
              "      <td>18.668810</td>\n",
              "      <td>4481.366060</td>\n",
              "      <td>301.0</td>\n",
              "      <td>3.511610</td>\n",
              "      <td>186.130520</td>\n",
              "      <td>5.783882e+18</td>\n",
              "      <td>0.576661</td>\n",
              "      <td>5137.009660</td>\n",
              "      <td>55588.647500</td>\n",
              "      <td>449.312740</td>\n",
              "    </tr>\n",
              "    <tr>\n",
              "      <th>std</th>\n",
              "      <td>8.438560e+12</td>\n",
              "      <td>96.502241</td>\n",
              "      <td>19.644665</td>\n",
              "      <td>31.769291</td>\n",
              "      <td>31.750292</td>\n",
              "      <td>1.854760</td>\n",
              "      <td>1.757895</td>\n",
              "      <td>31.728152</td>\n",
              "      <td>1964.764593</td>\n",
              "      <td>0.0</td>\n",
              "      <td>1.586912</td>\n",
              "      <td>149.011073</td>\n",
              "      <td>3.324016e+18</td>\n",
              "      <td>0.730707</td>\n",
              "      <td>2952.303351</td>\n",
              "      <td>1808.484233</td>\n",
              "      <td>272.498404</td>\n",
              "    </tr>\n",
              "    <tr>\n",
              "      <th>min</th>\n",
              "      <td>1.237646e+18</td>\n",
              "      <td>0.005528</td>\n",
              "      <td>-18.785328</td>\n",
              "      <td>-9999.000000</td>\n",
              "      <td>-9999.000000</td>\n",
              "      <td>9.822070</td>\n",
              "      <td>9.469903</td>\n",
              "      <td>-9999.000000</td>\n",
              "      <td>109.000000</td>\n",
              "      <td>301.0</td>\n",
              "      <td>1.000000</td>\n",
              "      <td>11.000000</td>\n",
              "      <td>2.995191e+17</td>\n",
              "      <td>-0.009971</td>\n",
              "      <td>266.000000</td>\n",
              "      <td>51608.000000</td>\n",
              "      <td>1.000000</td>\n",
              "    </tr>\n",
              "    <tr>\n",
              "      <th>25%</th>\n",
              "      <td>1.237659e+18</td>\n",
              "      <td>127.518222</td>\n",
              "      <td>5.146771</td>\n",
              "      <td>20.352353</td>\n",
              "      <td>18.965230</td>\n",
              "      <td>18.135828</td>\n",
              "      <td>17.732285</td>\n",
              "      <td>17.460677</td>\n",
              "      <td>3187.000000</td>\n",
              "      <td>301.0</td>\n",
              "      <td>2.000000</td>\n",
              "      <td>82.000000</td>\n",
              "      <td>2.844138e+18</td>\n",
              "      <td>0.054517</td>\n",
              "      <td>2526.000000</td>\n",
              "      <td>54234.000000</td>\n",
              "      <td>221.000000</td>\n",
              "    </tr>\n",
              "    <tr>\n",
              "      <th>50%</th>\n",
              "      <td>1.237663e+18</td>\n",
              "      <td>180.900700</td>\n",
              "      <td>23.645922</td>\n",
              "      <td>22.179135</td>\n",
              "      <td>21.099835</td>\n",
              "      <td>20.125290</td>\n",
              "      <td>19.405145</td>\n",
              "      <td>19.004595</td>\n",
              "      <td>4188.000000</td>\n",
              "      <td>301.0</td>\n",
              "      <td>4.000000</td>\n",
              "      <td>146.000000</td>\n",
              "      <td>5.614883e+18</td>\n",
              "      <td>0.424173</td>\n",
              "      <td>4987.000000</td>\n",
              "      <td>55868.500000</td>\n",
              "      <td>433.000000</td>\n",
              "    </tr>\n",
              "    <tr>\n",
              "      <th>75%</th>\n",
              "      <td>1.237668e+18</td>\n",
              "      <td>233.895005</td>\n",
              "      <td>39.901550</td>\n",
              "      <td>23.687440</td>\n",
              "      <td>22.123767</td>\n",
              "      <td>21.044785</td>\n",
              "      <td>20.396495</td>\n",
              "      <td>19.921120</td>\n",
              "      <td>5326.000000</td>\n",
              "      <td>301.0</td>\n",
              "      <td>5.000000</td>\n",
              "      <td>241.000000</td>\n",
              "      <td>8.332144e+18</td>\n",
              "      <td>0.704154</td>\n",
              "      <td>7400.250000</td>\n",
              "      <td>56777.000000</td>\n",
              "      <td>645.000000</td>\n",
              "    </tr>\n",
              "    <tr>\n",
              "      <th>max</th>\n",
              "      <td>1.237681e+18</td>\n",
              "      <td>359.999810</td>\n",
              "      <td>83.000519</td>\n",
              "      <td>32.781390</td>\n",
              "      <td>31.602240</td>\n",
              "      <td>29.571860</td>\n",
              "      <td>32.141470</td>\n",
              "      <td>29.383740</td>\n",
              "      <td>8162.000000</td>\n",
              "      <td>301.0</td>\n",
              "      <td>6.000000</td>\n",
              "      <td>989.000000</td>\n",
              "      <td>1.412694e+19</td>\n",
              "      <td>7.011245</td>\n",
              "      <td>12547.000000</td>\n",
              "      <td>58932.000000</td>\n",
              "      <td>1000.000000</td>\n",
              "    </tr>\n",
              "  </tbody>\n",
              "</table>\n",
              "</div>\n",
              "      <button class=\"colab-df-convert\" onclick=\"convertToInteractive('df-992cd4f3-744d-4023-9647-540e3f43b638')\"\n",
              "              title=\"Convert this dataframe to an interactive table.\"\n",
              "              style=\"display:none;\">\n",
              "        \n",
              "  <svg xmlns=\"http://www.w3.org/2000/svg\" height=\"24px\"viewBox=\"0 0 24 24\"\n",
              "       width=\"24px\">\n",
              "    <path d=\"M0 0h24v24H0V0z\" fill=\"none\"/>\n",
              "    <path d=\"M18.56 5.44l.94 2.06.94-2.06 2.06-.94-2.06-.94-.94-2.06-.94 2.06-2.06.94zm-11 1L8.5 8.5l.94-2.06 2.06-.94-2.06-.94L8.5 2.5l-.94 2.06-2.06.94zm10 10l.94 2.06.94-2.06 2.06-.94-2.06-.94-.94-2.06-.94 2.06-2.06.94z\"/><path d=\"M17.41 7.96l-1.37-1.37c-.4-.4-.92-.59-1.43-.59-.52 0-1.04.2-1.43.59L10.3 9.45l-7.72 7.72c-.78.78-.78 2.05 0 2.83L4 21.41c.39.39.9.59 1.41.59.51 0 1.02-.2 1.41-.59l7.78-7.78 2.81-2.81c.8-.78.8-2.07 0-2.86zM5.41 20L4 18.59l7.72-7.72 1.47 1.35L5.41 20z\"/>\n",
              "  </svg>\n",
              "      </button>\n",
              "      \n",
              "  <style>\n",
              "    .colab-df-container {\n",
              "      display:flex;\n",
              "      flex-wrap:wrap;\n",
              "      gap: 12px;\n",
              "    }\n",
              "\n",
              "    .colab-df-convert {\n",
              "      background-color: #E8F0FE;\n",
              "      border: none;\n",
              "      border-radius: 50%;\n",
              "      cursor: pointer;\n",
              "      display: none;\n",
              "      fill: #1967D2;\n",
              "      height: 32px;\n",
              "      padding: 0 0 0 0;\n",
              "      width: 32px;\n",
              "    }\n",
              "\n",
              "    .colab-df-convert:hover {\n",
              "      background-color: #E2EBFA;\n",
              "      box-shadow: 0px 1px 2px rgba(60, 64, 67, 0.3), 0px 1px 3px 1px rgba(60, 64, 67, 0.15);\n",
              "      fill: #174EA6;\n",
              "    }\n",
              "\n",
              "    [theme=dark] .colab-df-convert {\n",
              "      background-color: #3B4455;\n",
              "      fill: #D2E3FC;\n",
              "    }\n",
              "\n",
              "    [theme=dark] .colab-df-convert:hover {\n",
              "      background-color: #434B5C;\n",
              "      box-shadow: 0px 1px 3px 1px rgba(0, 0, 0, 0.15);\n",
              "      filter: drop-shadow(0px 1px 2px rgba(0, 0, 0, 0.3));\n",
              "      fill: #FFFFFF;\n",
              "    }\n",
              "  </style>\n",
              "\n",
              "      <script>\n",
              "        const buttonEl =\n",
              "          document.querySelector('#df-992cd4f3-744d-4023-9647-540e3f43b638 button.colab-df-convert');\n",
              "        buttonEl.style.display =\n",
              "          google.colab.kernel.accessAllowed ? 'block' : 'none';\n",
              "\n",
              "        async function convertToInteractive(key) {\n",
              "          const element = document.querySelector('#df-992cd4f3-744d-4023-9647-540e3f43b638');\n",
              "          const dataTable =\n",
              "            await google.colab.kernel.invokeFunction('convertToInteractive',\n",
              "                                                     [key], {});\n",
              "          if (!dataTable) return;\n",
              "\n",
              "          const docLinkHtml = 'Like what you see? Visit the ' +\n",
              "            '<a target=\"_blank\" href=https://colab.research.google.com/notebooks/data_table.ipynb>data table notebook</a>'\n",
              "            + ' to learn more about interactive tables.';\n",
              "          element.innerHTML = '';\n",
              "          dataTable['output_type'] = 'display_data';\n",
              "          await google.colab.output.renderOutput(dataTable, element);\n",
              "          const docLink = document.createElement('div');\n",
              "          docLink.innerHTML = docLinkHtml;\n",
              "          element.appendChild(docLink);\n",
              "        }\n",
              "      </script>\n",
              "    </div>\n",
              "  </div>\n",
              "  "
            ]
          },
          "metadata": {},
          "execution_count": 61
        }
      ],
      "source": [
        "stars.describe()"
      ]
    },
    {
      "cell_type": "code",
      "source": [
        "stars.info()"
      ],
      "metadata": {
        "id": "DyhQZE0VBtGl",
        "colab": {
          "base_uri": "https://localhost:8080/"
        },
        "outputId": "6624d284-67f6-4aae-ce6d-7227e67f1a2e"
      },
      "execution_count": null,
      "outputs": [
        {
          "output_type": "stream",
          "name": "stdout",
          "text": [
            "<class 'pandas.core.frame.DataFrame'>\n",
            "RangeIndex: 100000 entries, 0 to 99999\n",
            "Data columns (total 18 columns):\n",
            " #   Column       Non-Null Count   Dtype  \n",
            "---  ------       --------------   -----  \n",
            " 0   obj_ID       100000 non-null  float64\n",
            " 1   alpha        100000 non-null  float64\n",
            " 2   delta        100000 non-null  float64\n",
            " 3   u            100000 non-null  float64\n",
            " 4   g            100000 non-null  float64\n",
            " 5   r            100000 non-null  float64\n",
            " 6   i            100000 non-null  float64\n",
            " 7   z            100000 non-null  float64\n",
            " 8   run_ID       100000 non-null  int64  \n",
            " 9   rerun_ID     100000 non-null  int64  \n",
            " 10  cam_col      100000 non-null  int64  \n",
            " 11  field_ID     100000 non-null  int64  \n",
            " 12  spec_obj_ID  100000 non-null  float64\n",
            " 13  class        100000 non-null  object \n",
            " 14  redshift     100000 non-null  float64\n",
            " 15  plate        100000 non-null  int64  \n",
            " 16  MJD          100000 non-null  int64  \n",
            " 17  fiber_ID     100000 non-null  int64  \n",
            "dtypes: float64(10), int64(7), object(1)\n",
            "memory usage: 13.7+ MB\n"
          ]
        }
      ]
    },
    {
      "cell_type": "code",
      "source": [
        "stars.isna().sum()\n",
        "# Very few NaN. They could be filled in, but losing 3 - 8 rows would be insignificant."
      ],
      "metadata": {
        "id": "Jl8Tk3XlCd4t",
        "colab": {
          "base_uri": "https://localhost:8080/"
        },
        "outputId": "266da506-8a01-4205-ebf5-f66aa2446ca4"
      },
      "execution_count": null,
      "outputs": [
        {
          "output_type": "execute_result",
          "data": {
            "text/plain": [
              "obj_ID         0\n",
              "alpha          0\n",
              "delta          0\n",
              "u              0\n",
              "g              0\n",
              "r              0\n",
              "i              0\n",
              "z              0\n",
              "run_ID         0\n",
              "rerun_ID       0\n",
              "cam_col        0\n",
              "field_ID       0\n",
              "spec_obj_ID    0\n",
              "class          0\n",
              "redshift       0\n",
              "plate          0\n",
              "MJD            0\n",
              "fiber_ID       0\n",
              "dtype: int64"
            ]
          },
          "metadata": {},
          "execution_count": 63
        }
      ]
    },
    {
      "cell_type": "code",
      "source": [
        "stars = stars.dropna()"
      ],
      "metadata": {
        "id": "-kb9WCh1L1SG"
      },
      "execution_count": null,
      "outputs": []
    },
    {
      "cell_type": "code",
      "source": [
        "stars['class'].unique()\n",
        "# The column \"class\" is the target and it can has three values. So the model must be multi-class."
      ],
      "metadata": {
        "id": "0Wr2_5edkFKJ",
        "colab": {
          "base_uri": "https://localhost:8080/"
        },
        "outputId": "656e7b34-47d0-463b-cbed-ce1c1d079671"
      },
      "execution_count": null,
      "outputs": [
        {
          "output_type": "execute_result",
          "data": {
            "text/plain": [
              "array(['GALAXY', 'QSO', 'STAR'], dtype=object)"
            ]
          },
          "metadata": {},
          "execution_count": 65
        }
      ]
    },
    {
      "cell_type": "code",
      "source": [
        "corr = stars.corr()\n",
        "sns.heatmap(corr)"
      ],
      "metadata": {
        "id": "k3dhzHTKNypp",
        "colab": {
          "base_uri": "https://localhost:8080/",
          "height": 336
        },
        "outputId": "da92e691-13f8-43d5-faa4-7fde14082824"
      },
      "execution_count": null,
      "outputs": [
        {
          "output_type": "execute_result",
          "data": {
            "text/plain": [
              "<matplotlib.axes._subplots.AxesSubplot at 0x7f7f18ee75d0>"
            ]
          },
          "metadata": {},
          "execution_count": 66
        },
        {
          "output_type": "display_data",
          "data": {
            "text/plain": [
              "<Figure size 432x288 with 2 Axes>"
            ],
            "image/png": "[encoded data removed]"
          },
          "metadata": {
            "needs_background": "light"
          }
        }
      ]
    },
    {
      "cell_type": "markdown",
      "source": [
        "**Note**: Columns u, g, r i and z highly correlated with eachother, \n",
        "as well as weakly correlated with redshift, plate, MJD. \n",
        "It may seem strange at first that there's any correlation with spec_obj_ID.\n",
        "However this ID is indirectly related to the class as it is as stated in the source:\n",
        "spec_obj_ID = Unique ID used for optical spectroscopic objects\n",
        "(this means that 2 different observations with the same spec_obj_ID must share the output class)."
      ],
      "metadata": {
        "id": "JnJEInS4tkKu"
      }
    },
    {
      "cell_type": "code",
      "source": [
        "stars['rerun_ID'].unique()  # drop rerun_ID as it is constant"
      ],
      "metadata": {
        "id": "ZUUxkN13U0Sr",
        "colab": {
          "base_uri": "https://localhost:8080/"
        },
        "outputId": "14d61274-211a-4673-902c-4bb29fbad9db"
      },
      "execution_count": null,
      "outputs": [
        {
          "output_type": "execute_result",
          "data": {
            "text/plain": [
              "array([301])"
            ]
          },
          "metadata": {},
          "execution_count": 67
        }
      ]
    },
    {
      "cell_type": "code",
      "source": [
        "stars.std()"
      ],
      "metadata": {
        "id": "UQnlE_0Wosrd",
        "colab": {
          "base_uri": "https://localhost:8080/"
        },
        "outputId": "044edaa9-30fe-48de-9064-a3bed2fca5b1"
      },
      "execution_count": null,
      "outputs": [
        {
          "output_type": "stream",
          "name": "stderr",
          "text": [
            "/usr/local/lib/python3.7/dist-packages/ipykernel_launcher.py:1: FutureWarning: Dropping of nuisance columns in DataFrame reductions (with 'numeric_only=None') is deprecated; in a future version this will raise TypeError.  Select only valid columns before calling the reduction.\n",
            "  \"\"\"Entry point for launching an IPython kernel.\n"
          ]
        },
        {
          "output_type": "execute_result",
          "data": {
            "text/plain": [
              "obj_ID         8.438560e+12\n",
              "alpha          9.650224e+01\n",
              "delta          1.964467e+01\n",
              "u              3.176929e+01\n",
              "g              3.175029e+01\n",
              "r              1.854760e+00\n",
              "i              1.757895e+00\n",
              "z              3.172815e+01\n",
              "run_ID         1.964765e+03\n",
              "rerun_ID       0.000000e+00\n",
              "cam_col        1.586912e+00\n",
              "field_ID       1.490111e+02\n",
              "spec_obj_ID    3.324016e+18\n",
              "redshift       7.307073e-01\n",
              "plate          2.952303e+03\n",
              "MJD            1.808484e+03\n",
              "fiber_ID       2.724984e+02\n",
              "dtype: float64"
            ]
          },
          "metadata": {},
          "execution_count": 68
        }
      ]
    },
    {
      "cell_type": "markdown",
      "source": [
        "# Part 2: Data Preparation\n",
        "\n",
        "Anything with the 'ID' in its column name has a very high standard deviation (or 0 for rerun_ID), which makes sense as they're not measurements. This is the same with 'plate' as the full description shows that it is also an ID, which identifies each plate in SDSS.\n",
        "Understandably these can be dropped as they are not useful data in this case.\n",
        "\n",
        "MJD stands for Modified Julian Date, indicates when a given piece of SDSS data was taken. This will also not be used for modelling. "
      ],
      "metadata": {
        "id": "TnRAfdWzUoWu"
      }
    },
    {
      "cell_type": "code",
      "source": [
        "id_cols = []\n",
        "for col in stars.columns:\n",
        "  if 'ID' in col:\n",
        "    id_cols.append(col)\n",
        "id_cols = id_cols + ['plate', 'MJD']\n",
        "\n",
        "print(id_cols)"
      ],
      "metadata": {
        "id": "Vt_ZFhSNnMnF",
        "colab": {
          "base_uri": "https://localhost:8080/"
        },
        "outputId": "51ff5d3d-224e-405b-9310-afa86d0f4650"
      },
      "execution_count": null,
      "outputs": [
        {
          "output_type": "stream",
          "name": "stdout",
          "text": [
            "['obj_ID', 'run_ID', 'rerun_ID', 'field_ID', 'spec_obj_ID', 'fiber_ID', 'plate', 'MJD']\n"
          ]
        }
      ]
    },
    {
      "cell_type": "code",
      "source": [
        "stars.drop(columns=id_cols, inplace=True)"
      ],
      "metadata": {
        "id": "j1-spDbQx4gv"
      },
      "execution_count": null,
      "outputs": []
    },
    {
      "cell_type": "markdown",
      "source": [
        "# Normalise and split data for training"
      ],
      "metadata": {
        "id": "ElqM36b9EwkM"
      }
    },
    {
      "cell_type": "code",
      "source": [
        "# distribution\n",
        "class_counts = stars['class'].value_counts()\n",
        "class_names = class_counts.index\n",
        "sns.barplot(class_names, class_counts )"
      ],
      "metadata": {
        "id": "dnYdA8_HEycw",
        "colab": {
          "base_uri": "https://localhost:8080/",
          "height": 337
        },
        "outputId": "99c05aaa-71e3-42cb-a431-f1d216d1359c"
      },
      "execution_count": null,
      "outputs": [
        {
          "output_type": "stream",
          "name": "stderr",
          "text": [
            "/usr/local/lib/python3.7/dist-packages/seaborn/_decorators.py:43: FutureWarning: Pass the following variables as keyword args: x, y. From version 0.12, the only valid positional argument will be `data`, and passing other arguments without an explicit keyword will result in an error or misinterpretation.\n",
            "  FutureWarning\n"
          ]
        },
        {
          "output_type": "execute_result",
          "data": {
            "text/plain": [
              "<matplotlib.axes._subplots.AxesSubplot at 0x7f7f1b9a8e90>"
            ]
          },
          "metadata": {},
          "execution_count": 14
        },
        {
          "output_type": "display_data",
          "data": {
            "text/plain": [
              "<Figure size 432x288 with 1 Axes>"
            ],
            "image/png": "[encoded data removed]"
          },
          "metadata": {
            "needs_background": "light"
          }
        }
      ]
    },
    {
      "cell_type": "code",
      "source": [
        "# Z-Score = (data-mean)/std (-3,3)\n",
        "cats = stars.drop(columns = ['class'])\n",
        "\n",
        "x = (cats - cats.mean()) / cats.std() # Normalise x\n",
        "\n",
        "# convert y to int values\n",
        "# convert_class = lambda s : 0 if s=='GALAXY' else (1 if s=='STAR' else 2)  \n",
        "\n",
        "y = stars['class'] "
      ],
      "metadata": {
        "id": "U-fVEVZcEyZX"
      },
      "execution_count": null,
      "outputs": []
    },
    {
      "cell_type": "code",
      "source": [
        "(abs(x)>3 ).sum() # Check if any values fall outside of 3 sigma"
      ],
      "metadata": {
        "colab": {
          "base_uri": "https://localhost:8080/"
        },
        "id": "rdHQRtG94T-e",
        "outputId": "44ac748e-faff-4b68-fb3c-7c987b4afa92"
      },
      "execution_count": null,
      "outputs": [
        {
          "output_type": "execute_result",
          "data": {
            "text/plain": [
              "alpha          0\n",
              "delta          0\n",
              "u              1\n",
              "g              1\n",
              "r            193\n",
              "i            259\n",
              "z              1\n",
              "cam_col        0\n",
              "redshift    1836\n",
              "dtype: int64"
            ]
          },
          "metadata": {},
          "execution_count": 72
        }
      ]
    },
    {
      "cell_type": "markdown",
      "source": [
        "The number of redshift values which fall outside of 3 sigma is the greatest, which makes physical sense as redshift depends on movements of many objects and the proximity of other bodies."
      ],
      "metadata": {
        "id": "tFgzKEIiXhR5"
      }
    },
    {
      "cell_type": "code",
      "source": [
        "indicator =  x[abs(x) > 3 ].any(axis=1).astype(bool)\n",
        "indicator.sum()"
      ],
      "metadata": {
        "colab": {
          "base_uri": "https://localhost:8080/"
        },
        "id": "jsEVoJgmyKCi",
        "outputId": "52cd378c-3b78-4206-940b-422646caaefc"
      },
      "execution_count": null,
      "outputs": [
        {
          "output_type": "execute_result",
          "data": {
            "text/plain": [
              "2116"
            ]
          },
          "metadata": {},
          "execution_count": 73
        }
      ]
    },
    {
      "cell_type": "code",
      "source": [
        "print (\"Only {}% values are outside of 3 sigma.\\nThis is a very small number and can just be dropped.\".format(2116/1000))"
      ],
      "metadata": {
        "colab": {
          "base_uri": "https://localhost:8080/"
        },
        "id": "cmZsQo_e1FKm",
        "outputId": "fdda92f7-0274-4459-84ef-93a55a01397b"
      },
      "execution_count": null,
      "outputs": [
        {
          "output_type": "stream",
          "name": "stdout",
          "text": [
            "Only 2.116% values are outside of 3 sigma.\n",
            "This is a very small number and can just be dropped.\n"
          ]
        }
      ]
    },
    {
      "cell_type": "code",
      "source": [
        "x = x[-indicator]\n",
        "y = y[-indicator]"
      ],
      "metadata": {
        "id": "Qg3NYzZP4R5k"
      },
      "execution_count": null,
      "outputs": []
    },
    {
      "cell_type": "markdown",
      "source": [
        "# Part 3: Model Selection\n",
        "\n",
        "As the data is labled this will require a classification model. And as the number of rows are under 100,000 it is best to try the SVM (Support Vector Machines) in order to train a model."
      ],
      "metadata": {
        "id": "UxRy6MLCAse3"
      }
    },
    {
      "cell_type": "code",
      "source": [
        "def train_model(x, y, classifier):\n",
        "  # use of 'stratify' so that the data is balanced in each set as there are significantly more samples of galaxies.\n",
        "  xtrain, xtest, ytrain, ytest = train_test_split(x, y, test_size=0.2, stratify = y)\n",
        "  \n",
        "  # training\n",
        "  clf = classifier()\n",
        "  clf.fit(xtrain, ytrain)\n",
        "\n",
        "  # testing\n",
        "  predictions = clf.predict(xtest)\n",
        "\n",
        "  # confusion matrix\n",
        "  cm = confusion_matrix(ytest, predictions, labels=class_names, normalize = 'true')\n",
        "  disp = ConfusionMatrixDisplay(confusion_matrix=cm, display_labels=class_counts.index)\n",
        "\n",
        "  return (ytest, predictions), disp, clf"
      ],
      "metadata": {
        "id": "1EScW22IMhOo"
      },
      "execution_count": null,
      "outputs": []
    },
    {
      "cell_type": "markdown",
      "metadata": {
        "id": "V4gh4L9u_Wdv"
      },
      "source": [
        "# Part 4: Model Evaluation"
      ]
    },
    {
      "cell_type": "code",
      "source": [
        "def metrics(yy, disp):\n",
        "  ytest, predictions = yy\n",
        "  acc = accuracy_score(ytest, predictions)\n",
        "\n",
        "  prc = precision_score(ytest, predictions, \n",
        "                        pos_label='positive',\n",
        "                        average='micro')\n",
        "\n",
        "  rec = recall_score(ytest, predictions,\n",
        "                      pos_label='positive',\n",
        "                    average='micro')\n",
        "  \n",
        "  metrics = f\"accuracy score:  {acc:.3f}\\nprecision_score: {prc:.3f}\\nrecall_score: {rec:.3f}\"\n",
        "\n",
        "  print(metrics)\n",
        "  return disp.plot()"
      ],
      "metadata": {
        "id": "ok73LxCkQPpY"
      },
      "execution_count": null,
      "outputs": []
    },
    {
      "cell_type": "code",
      "source": [
        "yy, disp, clf = train_model(x_reduced, y, svm.SVC)"
      ],
      "metadata": {
        "id": "iUG6Z771KgEj"
      },
      "execution_count": null,
      "outputs": []
    },
    {
      "cell_type": "code",
      "source": [
        "metrics(yy, disp)"
      ],
      "metadata": {
        "colab": {
          "base_uri": "https://localhost:8080/",
          "height": 441
        },
        "id": "fyrUS7hCSABg",
        "outputId": "c9e1cb5b-765c-4ff4-ad59-4b7891c6aa72"
      },
      "execution_count": null,
      "outputs": [
        {
          "output_type": "stream",
          "name": "stderr",
          "text": [
            "/usr/local/lib/python3.7/dist-packages/sklearn/metrics/_classification.py:1375: UserWarning: Note that pos_label (set to 'positive') is ignored when average != 'binary' (got 'micro'). You may use labels=[pos_label] to specify a single positive class.\n",
            "  UserWarning,\n",
            "/usr/local/lib/python3.7/dist-packages/sklearn/metrics/_classification.py:1375: UserWarning: Note that pos_label (set to 'positive') is ignored when average != 'binary' (got 'micro'). You may use labels=[pos_label] to specify a single positive class.\n",
            "  UserWarning,\n"
          ]
        },
        {
          "output_type": "stream",
          "name": "stdout",
          "text": [
            "accuracy score:  0.963\n",
            "precision_score: 0.963\n",
            "recall_score: 0.963\n"
          ]
        },
        {
          "output_type": "execute_result",
          "data": {
            "text/plain": [
              "<sklearn.metrics._plot.confusion_matrix.ConfusionMatrixDisplay at 0x7f7f18ee7ad0>"
            ]
          },
          "metadata": {},
          "execution_count": 86
        },
        {
          "output_type": "display_data",
          "data": {
            "text/plain": [
              "<Figure size 432x288 with 2 Axes>"
            ],
            "image/png": "[encoded data removed]"
          },
          "metadata": {
            "needs_background": "light"
          }
        }
      ]
    },
    {
      "cell_type": "markdown",
      "source": [
        "Fairly good scores. \n",
        "Improvements may be made by either collecting more data for QSO instances, as its true positives are the lowest at .89.\n",
        "However, the data could forced to be more balanced by using several techniques,even though the differences in number of instances between the classes is not enormous and there is significant number of data for each class.\n",
        "This is to determine if QSO idenfification improves, as this could be a fundemental difficulty with indetifiying QSOs due to their 'quasi' nature.\n",
        "Furthermore, if QSO was removed completely, it could be that the remaining classifications would have a much higher accuracy, however, this may not be useful when dealing with the actual raw data, where all 3 types of objects are present."
      ],
      "metadata": {
        "id": "EOPhpCqMYmX1"
      }
    }
  ],
  "metadata": {
    "kernelspec": {
      "display_name": "Python 3",
      "language": "python",
      "name": "python3"
    },
    "language_info": {
      "codemirror_mode": {
        "name": "ipython",
        "version": 3
      },
      "file_extension": ".py",
      "mimetype": "text/x-python",
      "name": "python",
      "nbconvert_exporter": "python",
      "pygments_lexer": "ipython3",
      "version": "3.7.4"
    },
    "colab": {
      "name": "Cosmic_Object_classification.ipynb",
      "provenance": [],
      "collapsed_sections": []
    }
  },
  "nbformat": 4,
  "nbformat_minor": 0
}